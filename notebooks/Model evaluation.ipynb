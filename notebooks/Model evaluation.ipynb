{
 "cells": [
  {
   "cell_type": "markdown",
   "id": "f45a8b63-7f12-413b-a8a9-83f24fa18a67",
   "metadata": {},
   "source": [
    "# MODEL EVALUATION"
   ]
  },
  {
   "cell_type": "markdown",
   "id": "6b00df0d-4a45-43f3-b8a5-a39d446b3f86",
   "metadata": {},
   "source": [
    "@author: Matheus José Oliveira dos Santos"
   ]
  },
  {
   "cell_type": "markdown",
   "id": "d66b54f6-69bc-402c-834e-74fb53fc5d1c",
   "metadata": {},
   "source": [
    "## 1. Imports"
   ]
  },
  {
   "cell_type": "code",
   "execution_count": null,
   "id": "8c7308e6-0e60-4f26-85b6-a60e8a987bde",
   "metadata": {},
   "outputs": [],
   "source": []
  },
  {
   "cell_type": "markdown",
   "id": "5ca32293-65b0-4889-914d-f3fce49e53f1",
   "metadata": {},
   "source": [
    "## 2. Evaluation"
   ]
  },
  {
   "cell_type": "code",
   "execution_count": null,
   "id": "967eebf3-34f1-4aa7-9820-3a0f5d8f6e55",
   "metadata": {},
   "outputs": [],
   "source": []
  }
 ],
 "metadata": {
  "kernelspec": {
   "display_name": "Python 3 (ipykernel)",
   "language": "python",
   "name": "python3"
  },
  "language_info": {
   "codemirror_mode": {
    "name": "ipython",
    "version": 3
   },
   "file_extension": ".py",
   "mimetype": "text/x-python",
   "name": "python",
   "nbconvert_exporter": "python",
   "pygments_lexer": "ipython3",
   "version": "3.9.2"
  }
 },
 "nbformat": 4,
 "nbformat_minor": 5
}
