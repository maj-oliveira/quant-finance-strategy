{
 "cells": [
  {
   "cell_type": "markdown",
   "id": "f10e4486-722d-415c-97b5-d4c4bdc68f39",
   "metadata": {},
   "source": [
    "# BACKTESTING STOCK MARKET SHORT PREDICTION MODEL"
   ]
  },
  {
   "cell_type": "markdown",
   "id": "41cd88b7-164c-4d99-97df-0cb11bf2a303",
   "metadata": {},
   "source": [
    "@author: Matheus José Oliveira dos Santos"
   ]
  },
  {
   "cell_type": "markdown",
   "id": "069d0605-a677-413c-8347-a3ec52f89928",
   "metadata": {},
   "source": [
    "## 1. Imports"
   ]
  },
  {
   "cell_type": "code",
   "execution_count": 1,
   "id": "c11df968-4cbf-4272-a0ea-a04c4f6b27c2",
   "metadata": {},
   "outputs": [],
   "source": [
    "import sys\n",
    "import os\n",
    "from datetime import date, datetime, timedelta\n",
    "\n",
    "import pandas as pd\n",
    "\n",
    "sys.path.append(os.getcwd()+'\\\\..\\\\src')\n",
    "import db_interface\n",
    "import portfolio_backtest"
   ]
  },
  {
   "cell_type": "markdown",
   "id": "f30a7b3b-a894-4c4d-ac4c-456a47bdf14f",
   "metadata": {},
   "source": [
    "## 2. class inheritance"
   ]
  },
  {
   "cell_type": "code",
   "execution_count": 2,
   "id": "6e2faff3-b603-43cc-acfe-6cbbb9bcc8e7",
   "metadata": {},
   "outputs": [],
   "source": [
    "class Backtest(portfolio_backtest.Backtest):\n",
    "    def get_data(self) -> pd.DataFrame:\n",
    "        print(\"getting data\")\n",
    "        _ref_date = self._date_indicator\n",
    "        table_name = \"financials\"\n",
    "        \n",
    "        my_db = db_interface.DB_interface(\"FINANCE_DB\")\n",
    "\n",
    "        with my_db:\n",
    "            for i in range(5):\n",
    "                #query only brazilian stocks\n",
    "                query = \"SELECT * FROM {0} WHERE date = '{1}'\".format(table_name, _ref_date.strftime(\"%Y-%m-%d\"))\n",
    "                df_data = my_db.read_by_command(query)\n",
    "                if df_data.shape[0] == 0:\n",
    "                    #if there are no data, get the day before\n",
    "                    _ref_date = _ref_date - timedelta(days=1)\n",
    "                else:\n",
    "                    break #exit loop\n",
    "                    raise ValueError(\"There are not enough data\")\n",
    "        \n",
    "        #pre-processing\n",
    "        df_sample = df_data.copy.iloc[:,2:-3]\n",
    "        sc = joblib.load(self._sc)\n",
    "        df_sample_scaled = sc.transform(df_sample)\n",
    "        \n",
    "        #add first column as BBGTicker\n",
    "        df_sample_scaled.insert(0, 'BBGTicker', df_data['BBGTicker'])\n",
    "        \n",
    "        return df_sample_scaled\n",
    "    \n",
    "    def new_year(self) -> None:\n",
    "        pass"
   ]
  },
  {
   "cell_type": "markdown",
   "id": "18dd77f3-23ff-44f8-94c0-af30a688f702",
   "metadata": {},
   "source": [
    "## 3. Backtest"
   ]
  },
  {
   "cell_type": "code",
   "execution_count": 3,
   "id": "299c687e-6143-4878-9072-b56cce3ef565",
   "metadata": {},
   "outputs": [
    {
     "ename": "AttributeError",
     "evalue": "'DataFrame' object has no attribute 'append'",
     "output_type": "error",
     "traceback": [
      "\u001b[1;31m---------------------------------------------------------------------------\u001b[0m",
      "\u001b[1;31mAttributeError\u001b[0m                            Traceback (most recent call last)",
      "Cell \u001b[1;32mIn [3], line 5\u001b[0m\n\u001b[0;32m      2\u001b[0m end_date \u001b[38;5;241m=\u001b[39m date(\u001b[38;5;241m2023\u001b[39m,\u001b[38;5;241m8\u001b[39m,\u001b[38;5;241m1\u001b[39m)\n\u001b[0;32m      3\u001b[0m delta \u001b[38;5;241m=\u001b[39m timedelta(weeks\u001b[38;5;241m=\u001b[39m\u001b[38;5;241m1\u001b[39m)\n\u001b[1;32m----> 5\u001b[0m bt \u001b[38;5;241m=\u001b[39m \u001b[43mBacktest\u001b[49m\u001b[43m(\u001b[49m\u001b[43mstart_date\u001b[49m\u001b[43m,\u001b[49m\u001b[43m \u001b[49m\u001b[43mend_date\u001b[49m\u001b[43m,\u001b[49m\u001b[43m \u001b[49m\u001b[43mdelta\u001b[49m\u001b[43m)\u001b[49m\n\u001b[0;32m      6\u001b[0m bt\u001b[38;5;241m.\u001b[39mset_date_indicator(date(\u001b[38;5;241m2023\u001b[39m,\u001b[38;5;241m7\u001b[39m,\u001b[38;5;241m21\u001b[39m))\n\u001b[0;32m      7\u001b[0m df \u001b[38;5;241m=\u001b[39m bt\u001b[38;5;241m.\u001b[39mget_data()\n",
      "File \u001b[1;32m~\\Coding Projects\\quant-finance-strategy\\notebooks\\..\\src\\portfolio_backtest.py:16\u001b[0m, in \u001b[0;36mBacktest.__init__\u001b[1;34m(self, start_date, end_date, delta, init_NAV)\u001b[0m\n\u001b[0;32m     14\u001b[0m \u001b[38;5;28mself\u001b[39m\u001b[38;5;241m.\u001b[39m_df_performance \u001b[38;5;241m=\u001b[39m pd\u001b[38;5;241m.\u001b[39mDataFrame()\n\u001b[0;32m     15\u001b[0m _new_row \u001b[38;5;241m=\u001b[39m {\u001b[38;5;124m\"\u001b[39m\u001b[38;5;124mDate\u001b[39m\u001b[38;5;124m\"\u001b[39m:start_date, \u001b[38;5;124m\"\u001b[39m\u001b[38;5;124mNAV\u001b[39m\u001b[38;5;124m\"\u001b[39m:\u001b[38;5;28mself\u001b[39m\u001b[38;5;241m.\u001b[39m_init_NAV}\n\u001b[1;32m---> 16\u001b[0m \u001b[38;5;28mself\u001b[39m\u001b[38;5;241m.\u001b[39m_df_performance\u001b[38;5;241m=\u001b[39m\u001b[38;5;28;43mself\u001b[39;49m\u001b[38;5;241;43m.\u001b[39;49m\u001b[43m_df_performance\u001b[49m\u001b[38;5;241;43m.\u001b[39;49m\u001b[43mappend\u001b[49m(_new_row, ignore_index\u001b[38;5;241m=\u001b[39m\u001b[38;5;28;01mTrue\u001b[39;00m)\n\u001b[0;32m     17\u001b[0m \u001b[38;5;28mself\u001b[39m\u001b[38;5;241m.\u001b[39mlista_modelos \u001b[38;5;241m=\u001b[39m \u001b[38;5;28;01mNone\u001b[39;00m\n\u001b[0;32m     18\u001b[0m \u001b[38;5;28mself\u001b[39m\u001b[38;5;241m.\u001b[39mlista_scalers \u001b[38;5;241m=\u001b[39m \u001b[38;5;28;01mNone\u001b[39;00m\n",
      "File \u001b[1;32m~\\AppData\\Roaming\\Python\\Python39\\site-packages\\pandas\\core\\generic.py:5989\u001b[0m, in \u001b[0;36mNDFrame.__getattr__\u001b[1;34m(self, name)\u001b[0m\n\u001b[0;32m   5982\u001b[0m \u001b[38;5;28;01mif\u001b[39;00m (\n\u001b[0;32m   5983\u001b[0m     name \u001b[38;5;129;01mnot\u001b[39;00m \u001b[38;5;129;01min\u001b[39;00m \u001b[38;5;28mself\u001b[39m\u001b[38;5;241m.\u001b[39m_internal_names_set\n\u001b[0;32m   5984\u001b[0m     \u001b[38;5;129;01mand\u001b[39;00m name \u001b[38;5;129;01mnot\u001b[39;00m \u001b[38;5;129;01min\u001b[39;00m \u001b[38;5;28mself\u001b[39m\u001b[38;5;241m.\u001b[39m_metadata\n\u001b[0;32m   5985\u001b[0m     \u001b[38;5;129;01mand\u001b[39;00m name \u001b[38;5;129;01mnot\u001b[39;00m \u001b[38;5;129;01min\u001b[39;00m \u001b[38;5;28mself\u001b[39m\u001b[38;5;241m.\u001b[39m_accessors\n\u001b[0;32m   5986\u001b[0m     \u001b[38;5;129;01mand\u001b[39;00m \u001b[38;5;28mself\u001b[39m\u001b[38;5;241m.\u001b[39m_info_axis\u001b[38;5;241m.\u001b[39m_can_hold_identifiers_and_holds_name(name)\n\u001b[0;32m   5987\u001b[0m ):\n\u001b[0;32m   5988\u001b[0m     \u001b[38;5;28;01mreturn\u001b[39;00m \u001b[38;5;28mself\u001b[39m[name]\n\u001b[1;32m-> 5989\u001b[0m \u001b[38;5;28;01mreturn\u001b[39;00m \u001b[38;5;28;43mobject\u001b[39;49m\u001b[38;5;241;43m.\u001b[39;49m\u001b[38;5;21;43m__getattribute__\u001b[39;49m\u001b[43m(\u001b[49m\u001b[38;5;28;43mself\u001b[39;49m\u001b[43m,\u001b[49m\u001b[43m \u001b[49m\u001b[43mname\u001b[49m\u001b[43m)\u001b[49m\n",
      "\u001b[1;31mAttributeError\u001b[0m: 'DataFrame' object has no attribute 'append'"
     ]
    }
   ],
   "source": [
    "start_date = date(2022,1,1)\n",
    "end_date = date(2023,8,1)\n",
    "delta = timedelta(weeks=1)\n",
    "\n",
    "bt = Backtest(start_date, end_date, delta)\n",
    "bt.set_date_indicator(date(2023,7,21))\n",
    "df = bt.get_data()\n",
    "#bt.executar()"
   ]
  },
  {
   "cell_type": "code",
   "execution_count": null,
   "id": "b9357e22-d194-4f35-9809-8a7db0f1e0c9",
   "metadata": {},
   "outputs": [],
   "source": [
    "df = bt.get_performance()"
   ]
  }
 ],
 "metadata": {
  "kernelspec": {
   "display_name": "Python 3 (ipykernel)",
   "language": "python",
   "name": "python3"
  },
  "language_info": {
   "codemirror_mode": {
    "name": "ipython",
    "version": 3
   },
   "file_extension": ".py",
   "mimetype": "text/x-python",
   "name": "python",
   "nbconvert_exporter": "python",
   "pygments_lexer": "ipython3",
   "version": "3.9.2"
  }
 },
 "nbformat": 4,
 "nbformat_minor": 5
}
