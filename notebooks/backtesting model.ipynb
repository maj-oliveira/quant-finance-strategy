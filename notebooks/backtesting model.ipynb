{
 "cells": [
  {
   "cell_type": "markdown",
   "id": "f10e4486-722d-415c-97b5-d4c4bdc68f39",
   "metadata": {},
   "source": [
    "# BACKTESTING STOCK MARKET SHORT PREDICTION MODEL"
   ]
  },
  {
   "cell_type": "markdown",
   "id": "41cd88b7-164c-4d99-97df-0cb11bf2a303",
   "metadata": {},
   "source": [
    "@author: Matheus José Oliveira dos Santos"
   ]
  },
  {
   "cell_type": "markdown",
   "id": "069d0605-a677-413c-8347-a3ec52f89928",
   "metadata": {},
   "source": [
    "## 1. Imports"
   ]
  },
  {
   "cell_type": "code",
   "execution_count": 1,
   "id": "c11df968-4cbf-4272-a0ea-a04c4f6b27c2",
   "metadata": {},
   "outputs": [],
   "source": [
    "import sys\n",
    "import os\n",
    "from datetime import date, datetime, timedelta\n",
    "\n",
    "import pandas as pd\n",
    "import numpy as np\n",
    "import joblib\n",
    "\n",
    "sys.path.append(os.getcwd()+'\\\\..\\\\src')\n",
    "import db_interface\n",
    "import portfolio_backtest"
   ]
  },
  {
   "cell_type": "markdown",
   "id": "f30a7b3b-a894-4c4d-ac4c-456a47bdf14f",
   "metadata": {},
   "source": [
    "## 2. class inheritance"
   ]
  },
  {
   "cell_type": "code",
   "execution_count": 2,
   "id": "6e2faff3-b603-43cc-acfe-6cbbb9bcc8e7",
   "metadata": {},
   "outputs": [],
   "source": [
    "class Backtest(portfolio_backtest.Backtest):\n",
    "    def get_data(self) -> np.array:\n",
    "        print(\"getting data\")\n",
    "        _ref_date = self._date_indicator\n",
    "        table_name = \"financials\"\n",
    "        \n",
    "        my_db = db_interface.DB_interface(\"FINANCE_DB\")\n",
    "\n",
    "        with my_db:\n",
    "            for i in range(5):\n",
    "                #query only brazilian stocks\n",
    "                query = \"SELECT * FROM {0} WHERE date = '{1}'\".format(table_name, _ref_date.strftime(\"%Y-%m-%d\"))\n",
    "                df_data = my_db.read_by_command(query)\n",
    "                if df_data.shape[0] == 0:\n",
    "                    #if there are no data, get the day before\n",
    "                    _ref_date = _ref_date - timedelta(days=1)\n",
    "                else:\n",
    "                    break #exit loop\n",
    "                    raise ValueError(\"There are not enough data\")\n",
    "        \n",
    "        #pre-processing\n",
    "        df_sample = df_data.copy().iloc[:,2:-3]\n",
    "        sc = joblib.load(self._sc)\n",
    "        ar_sample_scaled = sc.transform(df_sample)\n",
    "        \n",
    "        #save BBGTicker order\n",
    "        self._order_BBGTicker = df_data['BBGTicker']\n",
    "\n",
    "        #return the sample scaled and save the order of BBGTicker\n",
    "        return ar_sample_scaled\n",
    "\n",
    "    def allocation(self, df_input:pd.DataFrame) -> pd.DataFrame:\n",
    "        df_aloc = \n",
    "    \n",
    "    def new_year(self) -> None:\n",
    "        pass"
   ]
  },
  {
   "cell_type": "markdown",
   "id": "18dd77f3-23ff-44f8-94c0-af30a688f702",
   "metadata": {},
   "source": [
    "## 3. Backtest"
   ]
  },
  {
   "cell_type": "code",
   "execution_count": 3,
   "id": "81bc5b41-e1f6-4642-9d2f-5b4cf3521787",
   "metadata": {},
   "outputs": [],
   "source": [
    "start_date = date(2022,1,1)\n",
    "end_date = date(2023,8,1)\n",
    "delta = timedelta(weeks=1)\n",
    "\n",
    "list_scalers = ['sc2013.pkl','sc2014.pkl','sc2015.pkl','sc2016.pkl','sc2017.pkl','sc2018.pkl','sc2019.pkl','sc2020.pkl','sc2021.pkl','sc2022.pkl','sc2023.pkl']\n",
    "list_models = ['ANN2013','ANN2014','ANN2015','ANN2016','ANN2017','ANN2018','ANN2019','ANN2020','ANN2021','ANN2022','ANN2023']"
   ]
  },
  {
   "cell_type": "code",
   "execution_count": 4,
   "id": "299c687e-6143-4878-9072-b56cce3ef565",
   "metadata": {},
   "outputs": [
    {
     "name": "stdout",
     "output_type": "stream",
     "text": [
      "getting data\n",
      "connecting in: FINANCE_DB\n",
      "DB Closed\n"
     ]
    },
    {
     "name": "stderr",
     "output_type": "stream",
     "text": [
      "C:\\Users\\mathe\\Coding Projects\\quant-finance-strategy\\notebooks\\..\\src\\db_interface.py:98: UserWarning: pandas only supports SQLAlchemy connectable (engine/connection) or database string URI or sqlite3 DBAPI2 connection. Other DBAPI2 objects are not tested. Please consider using SQLAlchemy.\n",
      "  return pd.read_sql_query(command, self.db)\n"
     ]
    }
   ],
   "source": [
    "bt = Backtest(start_date, end_date, delta)\n",
    "bt.set_date_indicator(date(2023,7,21))\n",
    "bt.set_scaler(os.getcwd()+'\\\\..\\\\scalers\\\\'+list_scalers[0])\n",
    "ar_sample_sc = bt.get_data()\n",
    "#bt.executar()"
   ]
  },
  {
   "cell_type": "code",
   "execution_count": 5,
   "id": "4a232c58-e735-410e-92ea-43bd237b37b8",
   "metadata": {},
   "outputs": [
    {
     "name": "stdout",
     "output_type": "stream",
     "text": [
      "4/4 [==============================] - 0s 2ms/step\n",
      "          BBGTicker  probability\n",
      "0   WEGE3 BZ Equity     0.999985\n",
      "1   GUAR3 BZ Equity     0.999900\n",
      "2   CMIG3 BZ Equity     0.982663\n",
      "3   SMTO3 BZ Equity     0.978808\n",
      "4   RANI3 BZ Equity     0.276227\n",
      "5   OIBR3 BZ Equity     0.031317\n",
      "6   GFSA3 BZ Equity     0.013635\n",
      "7   EMBR3 BZ Equity     0.010623\n",
      "8   POSI3 BZ Equity     0.008574\n",
      "9   PCAR3 BZ Equity     0.003797\n",
      "10  CSNA3 BZ Equity     0.002977\n",
      "11  SEQL3 BZ Equity     0.002407\n",
      "12  CPLE3 BZ Equity     0.001515\n",
      "13  PDGR3 BZ Equity     0.001471\n",
      "14  AMAR3 BZ Equity     0.001465\n",
      "15  TCSA3 BZ Equity     0.001073\n",
      "16  MEAL3 BZ Equity     0.000995\n",
      "17  SEER3 BZ Equity     0.000751\n",
      "18  MTRE3 BZ Equity     0.000700\n",
      "19  LJQQ3 BZ Equity     0.000623\n"
     ]
    }
   ],
   "source": [
    "df_predictions = bt.make_predictions(model_path = os.getcwd()+'\\\\..\\\\models\\\\'+list_models[0], ar_sample = ar_sample_sc)\n",
    "print(df_predictions.head(20))"
   ]
  },
  {
   "cell_type": "code",
   "execution_count": 6,
   "id": "b9357e22-d194-4f35-9809-8a7db0f1e0c9",
   "metadata": {},
   "outputs": [],
   "source": [
    "df = bt.get_performance()"
   ]
  }
 ],
 "metadata": {
  "kernelspec": {
   "display_name": "Python 3 (ipykernel)",
   "language": "python",
   "name": "python3"
  },
  "language_info": {
   "codemirror_mode": {
    "name": "ipython",
    "version": 3
   },
   "file_extension": ".py",
   "mimetype": "text/x-python",
   "name": "python",
   "nbconvert_exporter": "python",
   "pygments_lexer": "ipython3",
   "version": "3.9.2"
  }
 },
 "nbformat": 4,
 "nbformat_minor": 5
}
