{
 "cells": [
  {
   "cell_type": "markdown",
   "id": "f10e4486-722d-415c-97b5-d4c4bdc68f39",
   "metadata": {},
   "source": [
    "# STOCK MARKET SHORT PREDICTION MODEL"
   ]
  },
  {
   "cell_type": "markdown",
   "id": "41cd88b7-164c-4d99-97df-0cb11bf2a303",
   "metadata": {},
   "source": [
    "@author: Matheus José Oliveira dos Santos"
   ]
  },
  {
   "cell_type": "markdown",
   "id": "069d0605-a677-413c-8347-a3ec52f89928",
   "metadata": {},
   "source": [
    "## 1. Imports"
   ]
  },
  {
   "cell_type": "code",
   "execution_count": null,
   "id": "c11df968-4cbf-4272-a0ea-a04c4f6b27c2",
   "metadata": {},
   "outputs": [],
   "source": [
    "import sys\n",
    "import os\n",
    "from datetime import date, datetime\n",
    "\n",
    "sys.path.append(os.getcwd()+'\\\\..\\\\src')\n",
    "import db_interface\n",
    "import portfolio_backtest"
   ]
  }
 ],
 "metadata": {
  "kernelspec": {
   "display_name": "Python 3 (ipykernel)",
   "language": "python",
   "name": "python3"
  },
  "language_info": {
   "codemirror_mode": {
    "name": "ipython",
    "version": 3
   },
   "file_extension": ".py",
   "mimetype": "text/x-python",
   "name": "python",
   "nbconvert_exporter": "python",
   "pygments_lexer": "ipython3",
   "version": "3.9.2"
  }
 },
 "nbformat": 4,
 "nbformat_minor": 5
}
