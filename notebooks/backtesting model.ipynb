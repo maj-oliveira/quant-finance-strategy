{
 "cells": [
  {
   "cell_type": "markdown",
   "id": "f10e4486-722d-415c-97b5-d4c4bdc68f39",
   "metadata": {},
   "source": [
    "# BACKTESTING STOCK MARKET SHORT PREDICTION MODEL"
   ]
  },
  {
   "cell_type": "markdown",
   "id": "41cd88b7-164c-4d99-97df-0cb11bf2a303",
   "metadata": {},
   "source": [
    "@author: Matheus José Oliveira dos Santos"
   ]
  },
  {
   "cell_type": "markdown",
   "id": "069d0605-a677-413c-8347-a3ec52f89928",
   "metadata": {},
   "source": [
    "## 1. Imports"
   ]
  },
  {
   "cell_type": "code",
   "execution_count": 1,
   "id": "c11df968-4cbf-4272-a0ea-a04c4f6b27c2",
   "metadata": {},
   "outputs": [],
   "source": [
    "import sys\n",
    "import os\n",
    "from datetime import date, datetime, timedelta\n",
    "\n",
    "import pandas as pd\n",
    "import numpy as np\n",
    "import yfinance as yf\n",
    "import joblib\n",
    "\n",
    "sys.path.append(os.getcwd()+'\\\\..\\\\src')\n",
    "import db_interface\n",
    "import portfolio_backtest"
   ]
  },
  {
   "cell_type": "markdown",
   "id": "f30a7b3b-a894-4c4d-ac4c-456a47bdf14f",
   "metadata": {},
   "source": [
    "## 2. class inheritance"
   ]
  },
  {
   "cell_type": "code",
   "execution_count": 2,
   "id": "6e2faff3-b603-43cc-acfe-6cbbb9bcc8e7",
   "metadata": {},
   "outputs": [],
   "source": [
    "class Backtest(portfolio_backtest.Backtest):\n",
    "    def get_data(self) -> np.array:\n",
    "        print(\"getting data\")\n",
    "        _ref_date = self._date_indicator\n",
    "        table_name = \"financials\"\n",
    "        \n",
    "        my_db = db_interface.DB_interface(\"FINANCE_DB\")\n",
    "\n",
    "        with my_db:\n",
    "            for i in range(5):\n",
    "                #query only brazilian stocks\n",
    "                query = \"SELECT * FROM {0} WHERE date = '{1}'\".format(table_name, _ref_date.strftime(\"%Y-%m-%d\"))\n",
    "                df_data = my_db.read_by_command(query)\n",
    "                if df_data.shape[0] == 0:\n",
    "                    #if there are no data, get the day before\n",
    "                    _ref_date = _ref_date - timedelta(days=1)\n",
    "                else:\n",
    "                    break #exit loop\n",
    "                    raise ValueError(\"There are not enough data\")\n",
    "        \n",
    "        #pre-processing\n",
    "        df_sample = df_data.copy().iloc[:,2:-3]\n",
    "        sc = joblib.load(self._sc)\n",
    "        ar_sample_scaled = sc.transform(df_sample)\n",
    "        \n",
    "        #save BBGTicker order\n",
    "        self._order_BBGTicker = df_data['BBGTicker']\n",
    "\n",
    "        #return the sample scaled and save the order of BBGTicker\n",
    "        return ar_sample_scaled\n",
    "\n",
    "    def allocation(self, df_input:pd.DataFrame) -> pd.DataFrame:\n",
    "        #create base dataframe\n",
    "        df_aloc = pd.DataFrame(columns=['BBGTicker','%AUM'])\n",
    "\n",
    "        #add short position\n",
    "        df_aloc['BBGTicker'] = df_input.tail(10)['BBGTicker']\n",
    "        df_aloc['%AUM'] = -0.05\n",
    "\n",
    "        #add long position\n",
    "        aloc_aux = {'BBGTicker':'BOVA11.SA', '%AUM':1.5}\n",
    "        df_aloc = pd.concat([df_aloc, pd.DataFrame(aloc_aux,index=[0])], ignore_index=True)\n",
    "\n",
    "        return df_aloc\n",
    "\n",
    "    def return_securities(df_securities: pd.DataFrame, week_start:date, week_end:date) -> pd.DataFrame:\n",
    "        pass\n",
    "        \n",
    "    def new_year(self) -> None:\n",
    "        pass"
   ]
  },
  {
   "cell_type": "markdown",
   "id": "18dd77f3-23ff-44f8-94c0-af30a688f702",
   "metadata": {},
   "source": [
    "## 3. Backtest"
   ]
  },
  {
   "cell_type": "code",
   "execution_count": 3,
   "id": "81bc5b41-e1f6-4642-9d2f-5b4cf3521787",
   "metadata": {},
   "outputs": [],
   "source": [
    "start_date = date(2022,1,1)\n",
    "end_date = date(2023,8,1)\n",
    "delta = timedelta(weeks=1)\n",
    "\n",
    "list_scalers = ['sc2013.pkl','sc2014.pkl','sc2015.pkl','sc2016.pkl','sc2017.pkl','sc2018.pkl','sc2019.pkl','sc2020.pkl','sc2021.pkl','sc2022.pkl','sc2023.pkl']\n",
    "list_models = ['ANN2013','ANN2014','ANN2015','ANN2016','ANN2017','ANN2018','ANN2019','ANN2020','ANN2021','ANN2022','ANN2023']"
   ]
  },
  {
   "cell_type": "code",
   "execution_count": 4,
   "id": "299c687e-6143-4878-9072-b56cce3ef565",
   "metadata": {},
   "outputs": [
    {
     "name": "stdout",
     "output_type": "stream",
     "text": [
      "getting data\n",
      "connecting in: FINANCE_DB\n"
     ]
    },
    {
     "name": "stderr",
     "output_type": "stream",
     "text": [
      "C:\\Users\\mathe\\Coding Projects\\quant-finance-strategy\\notebooks\\..\\src\\db_interface.py:98: UserWarning: pandas only supports SQLAlchemy connectable (engine/connection) or database string URI or sqlite3 DBAPI2 connection. Other DBAPI2 objects are not tested. Please consider using SQLAlchemy.\n",
      "  return pd.read_sql_query(command, self.db)\n"
     ]
    },
    {
     "name": "stdout",
     "output_type": "stream",
     "text": [
      "DB Closed\n"
     ]
    }
   ],
   "source": [
    "bt = Backtest(start_date, end_date, delta)\n",
    "bt.set_date_indicator(date(2023,7,21))\n",
    "bt.set_scaler(os.getcwd()+'\\\\..\\\\scalers\\\\'+list_scalers[0])\n",
    "ar_sample_sc = bt.get_data()\n",
    "#bt.executar()"
   ]
  },
  {
   "cell_type": "code",
   "execution_count": 5,
   "id": "4a232c58-e735-410e-92ea-43bd237b37b8",
   "metadata": {},
   "outputs": [
    {
     "name": "stdout",
     "output_type": "stream",
     "text": [
      "4/4 [==============================] - 0s 0s/step\n",
      "         BBGTicker  probability\n",
      "0  WEGE3 BZ Equity     0.999985\n",
      "1  GUAR3 BZ Equity     0.999900\n",
      "2  CMIG3 BZ Equity     0.982663\n",
      "3  SMTO3 BZ Equity     0.978808\n",
      "4  RANI3 BZ Equity     0.276227\n",
      "5  OIBR3 BZ Equity     0.031317\n",
      "6  GFSA3 BZ Equity     0.013635\n",
      "7  EMBR3 BZ Equity     0.010623\n",
      "8  POSI3 BZ Equity     0.008574\n",
      "9  PCAR3 BZ Equity     0.003797\n"
     ]
    }
   ],
   "source": [
    "df_predictions = bt.make_predictions(model_path = os.getcwd()+'\\\\..\\\\models\\\\'+list_models[0], ar_sample = ar_sample_sc)\n",
    "print(df_predictions.head(10))"
   ]
  },
  {
   "cell_type": "code",
   "execution_count": 6,
   "id": "860cdb38-ff81-4084-8075-1b01de157404",
   "metadata": {},
   "outputs": [
    {
     "name": "stdout",
     "output_type": "stream",
     "text": [
      "          BBGTicker  %AUM\n",
      "0   MDIA3 BZ Equity -0.05\n",
      "1   CSAN3 BZ Equity -0.05\n",
      "2   TOTS3 BZ Equity -0.05\n",
      "3   HYPE3 BZ Equity -0.05\n",
      "4   ABEV3 BZ Equity -0.05\n",
      "5   PTBL3 BZ Equity -0.05\n",
      "6   COGN3 BZ Equity -0.05\n",
      "7   NTCO3 BZ Equity -0.05\n",
      "8   RADL3 BZ Equity -0.05\n",
      "9   RENT3 BZ Equity -0.05\n",
      "10        BOVA11.SA  1.50\n"
     ]
    }
   ],
   "source": [
    "df_aloc = bt.allocation(df_predictions)\n",
    "print(df_aloc)"
   ]
  },
  {
   "cell_type": "code",
   "execution_count": 11,
   "id": "01e56676-7205-41b4-aaeb-94aa61eea377",
   "metadata": {},
   "outputs": [
    {
     "name": "stdout",
     "output_type": "stream",
     "text": [
      "          BBGTicker  %AUM  Ticker_yf\n",
      "6   COGN3 BZ Equity -0.05   COGN3.SA\n",
      "7   NTCO3 BZ Equity -0.05   NTCO3.SA\n",
      "8   RADL3 BZ Equity -0.05   RADL3.SA\n",
      "9   RENT3 BZ Equity -0.05   RENT3.SA\n",
      "10        BOVA11.SA  1.50  BOVA11.SA\n",
      "[*********************100%%**********************]  1 of 1 completed\n"
     ]
    },
    {
     "ename": "AttributeError",
     "evalue": "'DataFrame' object has no attribute 'append'",
     "output_type": "error",
     "traceback": [
      "\u001b[1;31m---------------------------------------------------------------------------\u001b[0m",
      "\u001b[1;31mAttributeError\u001b[0m                            Traceback (most recent call last)",
      "Cell \u001b[1;32mIn [11], line 32\u001b[0m\n\u001b[0;32m     27\u001b[0m         df_returns \u001b[38;5;241m=\u001b[39m df_returns\u001b[38;5;241m.\u001b[39mappend({\u001b[38;5;124m'\u001b[39m\u001b[38;5;124mTicker\u001b[39m\u001b[38;5;124m'\u001b[39m: stock, \u001b[38;5;124m'\u001b[39m\u001b[38;5;124mReturn\u001b[39m\u001b[38;5;124m'\u001b[39m: ret_stock}, ignore_index\u001b[38;5;241m=\u001b[39m\u001b[38;5;28;01mTrue\u001b[39;00m)\n\u001b[0;32m     30\u001b[0m     \u001b[38;5;28;01mreturn\u001b[39;00m df_returns\n\u001b[1;32m---> 32\u001b[0m df \u001b[38;5;241m=\u001b[39m \u001b[43mreturn_securities\u001b[49m\u001b[43m(\u001b[49m\u001b[43mdf_aloc\u001b[49m\u001b[43m,\u001b[49m\u001b[43m \u001b[49m\u001b[43mdate\u001b[49m\u001b[43m(\u001b[49m\u001b[38;5;241;43m2023\u001b[39;49m\u001b[43m,\u001b[49m\u001b[38;5;241;43m8\u001b[39;49m\u001b[43m,\u001b[49m\u001b[38;5;241;43m1\u001b[39;49m\u001b[43m)\u001b[49m\u001b[43m,\u001b[49m\u001b[43mdate\u001b[49m\u001b[43m(\u001b[49m\u001b[38;5;241;43m2023\u001b[39;49m\u001b[43m,\u001b[49m\u001b[38;5;241;43m9\u001b[39;49m\u001b[43m,\u001b[49m\u001b[38;5;241;43m1\u001b[39;49m\u001b[43m)\u001b[49m\u001b[43m)\u001b[49m\n\u001b[0;32m     33\u001b[0m \u001b[38;5;28mprint\u001b[39m(df\u001b[38;5;241m.\u001b[39mhead())\n",
      "Cell \u001b[1;32mIn [11], line 27\u001b[0m, in \u001b[0;36mreturn_securities\u001b[1;34m(df_securities, week_start, week_end)\u001b[0m\n\u001b[0;32m     24\u001b[0m         ret_stock \u001b[38;5;241m=\u001b[39m (end_price \u001b[38;5;241m/\u001b[39m start_price) \u001b[38;5;241m-\u001b[39m \u001b[38;5;241m1\u001b[39m\n\u001b[0;32m     26\u001b[0m     \u001b[38;5;66;03m# Append the result to the DataFrame\u001b[39;00m\n\u001b[1;32m---> 27\u001b[0m     df_returns \u001b[38;5;241m=\u001b[39m \u001b[43mdf_returns\u001b[49m\u001b[38;5;241;43m.\u001b[39;49m\u001b[43mappend\u001b[49m({\u001b[38;5;124m'\u001b[39m\u001b[38;5;124mTicker\u001b[39m\u001b[38;5;124m'\u001b[39m: stock, \u001b[38;5;124m'\u001b[39m\u001b[38;5;124mReturn\u001b[39m\u001b[38;5;124m'\u001b[39m: ret_stock}, ignore_index\u001b[38;5;241m=\u001b[39m\u001b[38;5;28;01mTrue\u001b[39;00m)\n\u001b[0;32m     30\u001b[0m \u001b[38;5;28;01mreturn\u001b[39;00m df_returns\n",
      "File \u001b[1;32m~\\AppData\\Roaming\\Python\\Python39\\site-packages\\pandas\\core\\generic.py:5989\u001b[0m, in \u001b[0;36mNDFrame.__getattr__\u001b[1;34m(self, name)\u001b[0m\n\u001b[0;32m   5982\u001b[0m \u001b[38;5;28;01mif\u001b[39;00m (\n\u001b[0;32m   5983\u001b[0m     name \u001b[38;5;129;01mnot\u001b[39;00m \u001b[38;5;129;01min\u001b[39;00m \u001b[38;5;28mself\u001b[39m\u001b[38;5;241m.\u001b[39m_internal_names_set\n\u001b[0;32m   5984\u001b[0m     \u001b[38;5;129;01mand\u001b[39;00m name \u001b[38;5;129;01mnot\u001b[39;00m \u001b[38;5;129;01min\u001b[39;00m \u001b[38;5;28mself\u001b[39m\u001b[38;5;241m.\u001b[39m_metadata\n\u001b[0;32m   5985\u001b[0m     \u001b[38;5;129;01mand\u001b[39;00m name \u001b[38;5;129;01mnot\u001b[39;00m \u001b[38;5;129;01min\u001b[39;00m \u001b[38;5;28mself\u001b[39m\u001b[38;5;241m.\u001b[39m_accessors\n\u001b[0;32m   5986\u001b[0m     \u001b[38;5;129;01mand\u001b[39;00m \u001b[38;5;28mself\u001b[39m\u001b[38;5;241m.\u001b[39m_info_axis\u001b[38;5;241m.\u001b[39m_can_hold_identifiers_and_holds_name(name)\n\u001b[0;32m   5987\u001b[0m ):\n\u001b[0;32m   5988\u001b[0m     \u001b[38;5;28;01mreturn\u001b[39;00m \u001b[38;5;28mself\u001b[39m[name]\n\u001b[1;32m-> 5989\u001b[0m \u001b[38;5;28;01mreturn\u001b[39;00m \u001b[38;5;28;43mobject\u001b[39;49m\u001b[38;5;241;43m.\u001b[39;49m\u001b[38;5;21;43m__getattribute__\u001b[39;49m\u001b[43m(\u001b[49m\u001b[38;5;28;43mself\u001b[39;49m\u001b[43m,\u001b[49m\u001b[43m \u001b[49m\u001b[43mname\u001b[49m\u001b[43m)\u001b[49m\n",
      "\u001b[1;31mAttributeError\u001b[0m: 'DataFrame' object has no attribute 'append'"
     ]
    }
   ],
   "source": [
    "def return_securities(df_securities: pd.DataFrame, week_start:date, week_end:date) -> pd.DataFrame:\n",
    "    #convert date to str\n",
    "    week_start = week_start.strftime('%Y-%m-%d')\n",
    "    week_end = week_end.strftime('%Y-%m-%d')\n",
    "    \n",
    "    #convert bloomberg ticker to yfinance ticker\n",
    "    df_securities['Ticker_yf'] = df_securities['BBGTicker'].apply(lambda x: x.replace(' BZ Equity', '.SA'))\n",
    "    print(df_securities.tail())\n",
    "\n",
    "    #get data and calculate the returns\n",
    "\n",
    "    list_securities = df_securities['Ticker_yf'].tolist()\n",
    "    print(list_securities)\n",
    "    dict_returns = {}\n",
    "    for stock in list_securities:\n",
    "        print(stock)\n",
    "        data = yf.download(stock, week_start, week_end)\n",
    "        ret_stock = data['Adj Close'][-1]/data['Adj Close'][0] - 1\n",
    "        dict_returns[stock] = ret_stock\n",
    "\n",
    "    df_returns = pd.DataFrame(dict_returns, columns = ['Ticker', 'Return'])\n",
    "\n",
    "    return df_returns\n",
    "\n",
    "df = return_securities(df_aloc, date(2023,8,1),date(2023,9,1))\n",
    "print(df.head())"
   ]
  },
  {
   "cell_type": "code",
   "execution_count": 8,
   "id": "b9357e22-d194-4f35-9809-8a7db0f1e0c9",
   "metadata": {},
   "outputs": [],
   "source": [
    "df = bt.get_performance()"
   ]
  },
  {
   "cell_type": "code",
   "execution_count": 9,
   "id": "952b5528-211f-476d-a728-6c38b9ada78f",
   "metadata": {},
   "outputs": [
    {
     "name": "stdout",
     "output_type": "stream",
     "text": [
      "[*********************100%%**********************]  1 of 1 completed\n",
      "                  Open        High         Low       Close   Adj Close  \\\n",
      "Date                                                                     \n",
      "2023-01-03  243.080002  245.750000  237.399994  239.580002  237.956329   \n",
      "2023-01-04  232.279999  232.869995  225.960007  229.100006  227.547348   \n",
      "2023-01-05  227.199997  227.550003  221.759995  222.309998  220.803360   \n",
      "2023-01-06  223.000000  225.759995  219.350006  224.929993  223.405609   \n",
      "2023-01-09  226.449997  231.240005  226.410004  227.119995  225.580750   \n",
      "...                ...         ...         ...         ...         ...   \n",
      "2023-04-28  304.010010  308.929993  303.309998  307.260010  305.942047   \n",
      "2023-05-01  306.970001  308.600006  305.149994  305.559998  304.249329   \n",
      "2023-05-02  307.760010  309.179993  303.910004  305.410004  304.099945   \n",
      "2023-05-03  306.619995  308.609985  304.089996  304.399994  303.094299   \n",
      "2023-05-04  306.239990  307.760010  303.399994  305.410004  304.099945   \n",
      "\n",
      "              Volume  \n",
      "Date                  \n",
      "2023-01-03  25740000  \n",
      "2023-01-04  50623400  \n",
      "2023-01-05  39585600  \n",
      "2023-01-06  43613600  \n",
      "2023-01-09  27369800  \n",
      "...              ...  \n",
      "2023-04-28  36446700  \n",
      "2023-05-01  21294100  \n",
      "2023-05-02  26404400  \n",
      "2023-05-03  22360800  \n",
      "2023-05-04  22519900  \n",
      "\n",
      "[85 rows x 6 columns]\n"
     ]
    }
   ],
   "source": [
    "data = yf.download('MSFT', start='2023-01-01', end='2023-05-05')\n",
    "print(data)"
   ]
  }
 ],
 "metadata": {
  "kernelspec": {
   "display_name": "Python 3 (ipykernel)",
   "language": "python",
   "name": "python3"
  },
  "language_info": {
   "codemirror_mode": {
    "name": "ipython",
    "version": 3
   },
   "file_extension": ".py",
   "mimetype": "text/x-python",
   "name": "python",
   "nbconvert_exporter": "python",
   "pygments_lexer": "ipython3",
   "version": "3.9.2"
  }
 },
 "nbformat": 4,
 "nbformat_minor": 5
}
